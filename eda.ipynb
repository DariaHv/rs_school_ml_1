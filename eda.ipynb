{
 "cells": [
  {
   "cell_type": "code",
   "execution_count": 1,
   "id": "b489cb9e",
   "metadata": {},
   "outputs": [],
   "source": [
    "import pandas as pd\n",
    "import numpy as np\n",
    "import matplotlib.pyplot as plt\n",
    "import seaborn as sns"
   ]
  },
  {
   "cell_type": "markdown",
   "id": "d07912a0",
   "metadata": {},
   "source": [
    "# Context"
   ]
  },
  {
   "cell_type": "markdown",
   "id": "4bd514f8",
   "metadata": {},
   "source": [
    "Импорт данных из файла и вывод первых и последних записей."
   ]
  },
  {
   "cell_type": "code",
   "execution_count": 2,
   "id": "6b981d68",
   "metadata": {},
   "outputs": [
    {
     "data": {
      "text/html": [
       "<div>\n",
       "<style scoped>\n",
       "    .dataframe tbody tr th:only-of-type {\n",
       "        vertical-align: middle;\n",
       "    }\n",
       "\n",
       "    .dataframe tbody tr th {\n",
       "        vertical-align: top;\n",
       "    }\n",
       "\n",
       "    .dataframe thead th {\n",
       "        text-align: right;\n",
       "    }\n",
       "</style>\n",
       "<table border=\"1\" class=\"dataframe\">\n",
       "  <thead>\n",
       "    <tr style=\"text-align: right;\">\n",
       "      <th></th>\n",
       "      <th>Survived</th>\n",
       "      <th>Pclass</th>\n",
       "      <th>Name</th>\n",
       "      <th>Sex</th>\n",
       "      <th>Age</th>\n",
       "      <th>SibSp</th>\n",
       "      <th>Parch</th>\n",
       "      <th>Ticket</th>\n",
       "      <th>Fare</th>\n",
       "      <th>Cabin</th>\n",
       "      <th>Embarked</th>\n",
       "    </tr>\n",
       "    <tr>\n",
       "      <th>PassengerId</th>\n",
       "      <th></th>\n",
       "      <th></th>\n",
       "      <th></th>\n",
       "      <th></th>\n",
       "      <th></th>\n",
       "      <th></th>\n",
       "      <th></th>\n",
       "      <th></th>\n",
       "      <th></th>\n",
       "      <th></th>\n",
       "      <th></th>\n",
       "    </tr>\n",
       "  </thead>\n",
       "  <tbody>\n",
       "    <tr>\n",
       "      <th>0</th>\n",
       "      <td>1</td>\n",
       "      <td>1</td>\n",
       "      <td>Oconnor, Frankie</td>\n",
       "      <td>male</td>\n",
       "      <td>NaN</td>\n",
       "      <td>2</td>\n",
       "      <td>0</td>\n",
       "      <td>209245</td>\n",
       "      <td>27.14</td>\n",
       "      <td>C12239</td>\n",
       "      <td>S</td>\n",
       "    </tr>\n",
       "    <tr>\n",
       "      <th>1</th>\n",
       "      <td>0</td>\n",
       "      <td>3</td>\n",
       "      <td>Bryan, Drew</td>\n",
       "      <td>male</td>\n",
       "      <td>NaN</td>\n",
       "      <td>0</td>\n",
       "      <td>0</td>\n",
       "      <td>27323</td>\n",
       "      <td>13.35</td>\n",
       "      <td>NaN</td>\n",
       "      <td>S</td>\n",
       "    </tr>\n",
       "    <tr>\n",
       "      <th>2</th>\n",
       "      <td>0</td>\n",
       "      <td>3</td>\n",
       "      <td>Owens, Kenneth</td>\n",
       "      <td>male</td>\n",
       "      <td>0.33</td>\n",
       "      <td>1</td>\n",
       "      <td>2</td>\n",
       "      <td>CA 457703</td>\n",
       "      <td>71.29</td>\n",
       "      <td>NaN</td>\n",
       "      <td>S</td>\n",
       "    </tr>\n",
       "    <tr>\n",
       "      <th>3</th>\n",
       "      <td>0</td>\n",
       "      <td>3</td>\n",
       "      <td>Kramer, James</td>\n",
       "      <td>male</td>\n",
       "      <td>19.00</td>\n",
       "      <td>0</td>\n",
       "      <td>0</td>\n",
       "      <td>A. 10866</td>\n",
       "      <td>13.04</td>\n",
       "      <td>NaN</td>\n",
       "      <td>S</td>\n",
       "    </tr>\n",
       "    <tr>\n",
       "      <th>4</th>\n",
       "      <td>1</td>\n",
       "      <td>3</td>\n",
       "      <td>Bond, Michael</td>\n",
       "      <td>male</td>\n",
       "      <td>25.00</td>\n",
       "      <td>0</td>\n",
       "      <td>0</td>\n",
       "      <td>427635</td>\n",
       "      <td>7.76</td>\n",
       "      <td>NaN</td>\n",
       "      <td>S</td>\n",
       "    </tr>\n",
       "    <tr>\n",
       "      <th>5</th>\n",
       "      <td>0</td>\n",
       "      <td>2</td>\n",
       "      <td>Sassano, Jonathan</td>\n",
       "      <td>male</td>\n",
       "      <td>35.00</td>\n",
       "      <td>0</td>\n",
       "      <td>0</td>\n",
       "      <td>13363</td>\n",
       "      <td>6.71</td>\n",
       "      <td>NaN</td>\n",
       "      <td>S</td>\n",
       "    </tr>\n",
       "    <tr>\n",
       "      <th>6</th>\n",
       "      <td>0</td>\n",
       "      <td>3</td>\n",
       "      <td>Conway, Jose</td>\n",
       "      <td>male</td>\n",
       "      <td>7.00</td>\n",
       "      <td>0</td>\n",
       "      <td>0</td>\n",
       "      <td>A/5</td>\n",
       "      <td>9.77</td>\n",
       "      <td>NaN</td>\n",
       "      <td>S</td>\n",
       "    </tr>\n",
       "    <tr>\n",
       "      <th>7</th>\n",
       "      <td>1</td>\n",
       "      <td>3</td>\n",
       "      <td>Werner, Linda</td>\n",
       "      <td>female</td>\n",
       "      <td>6.00</td>\n",
       "      <td>1</td>\n",
       "      <td>2</td>\n",
       "      <td>434426</td>\n",
       "      <td>31.50</td>\n",
       "      <td>NaN</td>\n",
       "      <td>S</td>\n",
       "    </tr>\n",
       "    <tr>\n",
       "      <th>8</th>\n",
       "      <td>0</td>\n",
       "      <td>1</td>\n",
       "      <td>Wardlaw, Michael</td>\n",
       "      <td>male</td>\n",
       "      <td>27.00</td>\n",
       "      <td>2</td>\n",
       "      <td>1</td>\n",
       "      <td>474849</td>\n",
       "      <td>73.02</td>\n",
       "      <td>A7253</td>\n",
       "      <td>S</td>\n",
       "    </tr>\n",
       "    <tr>\n",
       "      <th>9</th>\n",
       "      <td>0</td>\n",
       "      <td>2</td>\n",
       "      <td>Greigo, Rudy</td>\n",
       "      <td>male</td>\n",
       "      <td>66.00</td>\n",
       "      <td>0</td>\n",
       "      <td>0</td>\n",
       "      <td>6981</td>\n",
       "      <td>9.14</td>\n",
       "      <td>D2969</td>\n",
       "      <td>C</td>\n",
       "    </tr>\n",
       "  </tbody>\n",
       "</table>\n",
       "</div>"
      ],
      "text/plain": [
       "             Survived  Pclass               Name     Sex    Age  SibSp  Parch  \\\n",
       "PassengerId                                                                     \n",
       "0                   1       1   Oconnor, Frankie    male    NaN      2      0   \n",
       "1                   0       3        Bryan, Drew    male    NaN      0      0   \n",
       "2                   0       3     Owens, Kenneth    male   0.33      1      2   \n",
       "3                   0       3      Kramer, James    male  19.00      0      0   \n",
       "4                   1       3      Bond, Michael    male  25.00      0      0   \n",
       "5                   0       2  Sassano, Jonathan    male  35.00      0      0   \n",
       "6                   0       3       Conway, Jose    male   7.00      0      0   \n",
       "7                   1       3      Werner, Linda  female   6.00      1      2   \n",
       "8                   0       1   Wardlaw, Michael    male  27.00      2      1   \n",
       "9                   0       2       Greigo, Rudy    male  66.00      0      0   \n",
       "\n",
       "                Ticket   Fare   Cabin Embarked  \n",
       "PassengerId                                     \n",
       "0               209245  27.14  C12239        S  \n",
       "1                27323  13.35     NaN        S  \n",
       "2            CA 457703  71.29     NaN        S  \n",
       "3             A. 10866  13.04     NaN        S  \n",
       "4               427635   7.76     NaN        S  \n",
       "5                13363   6.71     NaN        S  \n",
       "6                 A/5    9.77     NaN        S  \n",
       "7               434426  31.50     NaN        S  \n",
       "8               474849  73.02   A7253        S  \n",
       "9                 6981   9.14   D2969        C  "
      ]
     },
     "execution_count": 2,
     "metadata": {},
     "output_type": "execute_result"
    }
   ],
   "source": [
    "# запись содержимого файла в датафрейм\n",
    "pass_data = pd.read_csv(\"train.csv\", index_col='PassengerId') \n",
    "pass_data.head(10) #вывод первых 10 строк"
   ]
  },
  {
   "cell_type": "code",
   "execution_count": 3,
   "id": "a53dd6ef",
   "metadata": {},
   "outputs": [
    {
     "data": {
      "text/html": [
       "<div>\n",
       "<style scoped>\n",
       "    .dataframe tbody tr th:only-of-type {\n",
       "        vertical-align: middle;\n",
       "    }\n",
       "\n",
       "    .dataframe tbody tr th {\n",
       "        vertical-align: top;\n",
       "    }\n",
       "\n",
       "    .dataframe thead th {\n",
       "        text-align: right;\n",
       "    }\n",
       "</style>\n",
       "<table border=\"1\" class=\"dataframe\">\n",
       "  <thead>\n",
       "    <tr style=\"text-align: right;\">\n",
       "      <th></th>\n",
       "      <th>Survived</th>\n",
       "      <th>Pclass</th>\n",
       "      <th>Name</th>\n",
       "      <th>Sex</th>\n",
       "      <th>Age</th>\n",
       "      <th>SibSp</th>\n",
       "      <th>Parch</th>\n",
       "      <th>Ticket</th>\n",
       "      <th>Fare</th>\n",
       "      <th>Cabin</th>\n",
       "      <th>Embarked</th>\n",
       "    </tr>\n",
       "    <tr>\n",
       "      <th>PassengerId</th>\n",
       "      <th></th>\n",
       "      <th></th>\n",
       "      <th></th>\n",
       "      <th></th>\n",
       "      <th></th>\n",
       "      <th></th>\n",
       "      <th></th>\n",
       "      <th></th>\n",
       "      <th></th>\n",
       "      <th></th>\n",
       "      <th></th>\n",
       "    </tr>\n",
       "  </thead>\n",
       "  <tbody>\n",
       "    <tr>\n",
       "      <th>99990</th>\n",
       "      <td>1</td>\n",
       "      <td>3</td>\n",
       "      <td>King, Nancy</td>\n",
       "      <td>female</td>\n",
       "      <td>15.0</td>\n",
       "      <td>0</td>\n",
       "      <td>0</td>\n",
       "      <td>A.5. 356933</td>\n",
       "      <td>10.92</td>\n",
       "      <td>NaN</td>\n",
       "      <td>S</td>\n",
       "    </tr>\n",
       "    <tr>\n",
       "      <th>99991</th>\n",
       "      <td>0</td>\n",
       "      <td>1</td>\n",
       "      <td>Hogan, Todd</td>\n",
       "      <td>male</td>\n",
       "      <td>53.0</td>\n",
       "      <td>0</td>\n",
       "      <td>5</td>\n",
       "      <td>CA 48075</td>\n",
       "      <td>30.09</td>\n",
       "      <td>B19289</td>\n",
       "      <td>Q</td>\n",
       "    </tr>\n",
       "    <tr>\n",
       "      <th>99992</th>\n",
       "      <td>1</td>\n",
       "      <td>2</td>\n",
       "      <td>Cordero, Rita</td>\n",
       "      <td>female</td>\n",
       "      <td>58.0</td>\n",
       "      <td>0</td>\n",
       "      <td>0</td>\n",
       "      <td>4451636</td>\n",
       "      <td>30.53</td>\n",
       "      <td>F12072</td>\n",
       "      <td>C</td>\n",
       "    </tr>\n",
       "    <tr>\n",
       "      <th>99993</th>\n",
       "      <td>1</td>\n",
       "      <td>3</td>\n",
       "      <td>Register, Naomi</td>\n",
       "      <td>female</td>\n",
       "      <td>17.0</td>\n",
       "      <td>0</td>\n",
       "      <td>0</td>\n",
       "      <td>20029</td>\n",
       "      <td>4.06</td>\n",
       "      <td>NaN</td>\n",
       "      <td>S</td>\n",
       "    </tr>\n",
       "    <tr>\n",
       "      <th>99994</th>\n",
       "      <td>0</td>\n",
       "      <td>2</td>\n",
       "      <td>Stevens, Clinton</td>\n",
       "      <td>male</td>\n",
       "      <td>36.0</td>\n",
       "      <td>0</td>\n",
       "      <td>0</td>\n",
       "      <td>41343</td>\n",
       "      <td>12.14</td>\n",
       "      <td>NaN</td>\n",
       "      <td>S</td>\n",
       "    </tr>\n",
       "    <tr>\n",
       "      <th>99995</th>\n",
       "      <td>1</td>\n",
       "      <td>2</td>\n",
       "      <td>Bell, Adele</td>\n",
       "      <td>female</td>\n",
       "      <td>62.0</td>\n",
       "      <td>0</td>\n",
       "      <td>0</td>\n",
       "      <td>PC 15008</td>\n",
       "      <td>14.86</td>\n",
       "      <td>D17243</td>\n",
       "      <td>C</td>\n",
       "    </tr>\n",
       "    <tr>\n",
       "      <th>99996</th>\n",
       "      <td>0</td>\n",
       "      <td>2</td>\n",
       "      <td>Brown, Herman</td>\n",
       "      <td>male</td>\n",
       "      <td>66.0</td>\n",
       "      <td>0</td>\n",
       "      <td>0</td>\n",
       "      <td>13273</td>\n",
       "      <td>11.15</td>\n",
       "      <td>NaN</td>\n",
       "      <td>S</td>\n",
       "    </tr>\n",
       "    <tr>\n",
       "      <th>99997</th>\n",
       "      <td>0</td>\n",
       "      <td>3</td>\n",
       "      <td>Childress, Charles</td>\n",
       "      <td>male</td>\n",
       "      <td>37.0</td>\n",
       "      <td>0</td>\n",
       "      <td>0</td>\n",
       "      <td>NaN</td>\n",
       "      <td>9.95</td>\n",
       "      <td>NaN</td>\n",
       "      <td>S</td>\n",
       "    </tr>\n",
       "    <tr>\n",
       "      <th>99998</th>\n",
       "      <td>0</td>\n",
       "      <td>3</td>\n",
       "      <td>Caughlin, Thomas</td>\n",
       "      <td>male</td>\n",
       "      <td>51.0</td>\n",
       "      <td>0</td>\n",
       "      <td>1</td>\n",
       "      <td>458654</td>\n",
       "      <td>30.92</td>\n",
       "      <td>NaN</td>\n",
       "      <td>S</td>\n",
       "    </tr>\n",
       "    <tr>\n",
       "      <th>99999</th>\n",
       "      <td>0</td>\n",
       "      <td>3</td>\n",
       "      <td>Enciso, Tyler</td>\n",
       "      <td>male</td>\n",
       "      <td>55.0</td>\n",
       "      <td>0</td>\n",
       "      <td>0</td>\n",
       "      <td>458074</td>\n",
       "      <td>13.96</td>\n",
       "      <td>NaN</td>\n",
       "      <td>S</td>\n",
       "    </tr>\n",
       "  </tbody>\n",
       "</table>\n",
       "</div>"
      ],
      "text/plain": [
       "             Survived  Pclass                Name     Sex   Age  SibSp  Parch  \\\n",
       "PassengerId                                                                     \n",
       "99990               1       3         King, Nancy  female  15.0      0      0   \n",
       "99991               0       1         Hogan, Todd    male  53.0      0      5   \n",
       "99992               1       2       Cordero, Rita  female  58.0      0      0   \n",
       "99993               1       3     Register, Naomi  female  17.0      0      0   \n",
       "99994               0       2    Stevens, Clinton    male  36.0      0      0   \n",
       "99995               1       2         Bell, Adele  female  62.0      0      0   \n",
       "99996               0       2       Brown, Herman    male  66.0      0      0   \n",
       "99997               0       3  Childress, Charles    male  37.0      0      0   \n",
       "99998               0       3    Caughlin, Thomas    male  51.0      0      1   \n",
       "99999               0       3       Enciso, Tyler    male  55.0      0      0   \n",
       "\n",
       "                  Ticket   Fare   Cabin Embarked  \n",
       "PassengerId                                       \n",
       "99990        A.5. 356933  10.92     NaN        S  \n",
       "99991           CA 48075  30.09  B19289        Q  \n",
       "99992            4451636  30.53  F12072        C  \n",
       "99993              20029   4.06     NaN        S  \n",
       "99994              41343  12.14     NaN        S  \n",
       "99995           PC 15008  14.86  D17243        C  \n",
       "99996              13273  11.15     NaN        S  \n",
       "99997                NaN   9.95     NaN        S  \n",
       "99998             458654  30.92     NaN        S  \n",
       "99999             458074  13.96     NaN        S  "
      ]
     },
     "execution_count": 3,
     "metadata": {},
     "output_type": "execute_result"
    }
   ],
   "source": [
    "pass_data.tail(10) #вывод последних 10 строк"
   ]
  },
  {
   "cell_type": "markdown",
   "id": "2c384271",
   "metadata": {},
   "source": [
    "Согласно описанию в kaggle датасет синтетически сгенерирован на основе реальных данных о пассажирах \"Титаника\". Кроме уникального индекса пассажира таблице 11 столбцов:\n",
    "- Survived - выжил пассажир(1) или погиб (0) \n",
    "- Pclass - класс (1 - первый, 2 - второй, 3 - третий)\n",
    "- Name - имя пассажира\n",
    "- Sex - пол пассажира\n",
    "- Age - возраст пассажира\n",
    "- SibSp - количество братев/сестер+супругов, путешествовавших с пассажиром\n",
    "- Parch - количество родителей/детей, путешествовавших с пассажиром\n",
    "- Ticket - номер билета\n",
    "- Fare - стоимость билета\n",
    "- Cabin - номер каюты\n",
    "- Embarked - порт посадки (S - Саутгемптон, C - Шербур, Q - Куинстаун)\n",
    "\n",
    "В соревновании на Kaggle нужно определить выживших и погибших пассажиров, следовательно необходимо проверить, как остальные факторы влияют на выживаемость."
   ]
  },
  {
   "cell_type": "markdown",
   "id": "9b4320c6",
   "metadata": {},
   "source": [
    "# Data quality assessment"
   ]
  },
  {
   "cell_type": "code",
   "execution_count": 4,
   "id": "d6d5499c",
   "metadata": {
    "scrolled": true
   },
   "outputs": [
    {
     "name": "stdout",
     "output_type": "stream",
     "text": [
      "<class 'pandas.core.frame.DataFrame'>\n",
      "Int64Index: 100000 entries, 0 to 99999\n",
      "Data columns (total 11 columns):\n",
      " #   Column    Non-Null Count   Dtype  \n",
      "---  ------    --------------   -----  \n",
      " 0   Survived  100000 non-null  int64  \n",
      " 1   Pclass    100000 non-null  int64  \n",
      " 2   Name      100000 non-null  object \n",
      " 3   Sex       100000 non-null  object \n",
      " 4   Age       96708 non-null   float64\n",
      " 5   SibSp     100000 non-null  int64  \n",
      " 6   Parch     100000 non-null  int64  \n",
      " 7   Ticket    95377 non-null   object \n",
      " 8   Fare      99866 non-null   float64\n",
      " 9   Cabin     32134 non-null   object \n",
      " 10  Embarked  99750 non-null   object \n",
      "dtypes: float64(2), int64(4), object(5)\n",
      "memory usage: 9.2+ MB\n"
     ]
    }
   ],
   "source": [
    "pass_data.info()"
   ]
  },
  {
   "cell_type": "code",
   "execution_count": 5,
   "id": "e443ca82",
   "metadata": {},
   "outputs": [
    {
     "data": {
      "text/plain": [
       "Survived        0\n",
       "Pclass          0\n",
       "Name            0\n",
       "Sex             0\n",
       "Age          3292\n",
       "SibSp           0\n",
       "Parch           0\n",
       "Ticket       4623\n",
       "Fare          134\n",
       "Cabin       67866\n",
       "Embarked      250\n",
       "dtype: int64"
      ]
     },
     "execution_count": 5,
     "metadata": {},
     "output_type": "execute_result"
    }
   ],
   "source": [
    "# check for NAs\n",
    "pass_data.isnull().sum()"
   ]
  },
  {
   "cell_type": "markdown",
   "id": "caf81afe",
   "metadata": {},
   "source": [
    "Пропущены данные по столбцам Age - 3,29%, Ticket - 4,62%, Fare - 0,13%, Cabin - 67,87%, Embarked - 0,25 %.В\n",
    "Вместо пропущенных данных будет выполнена подстановка:\n",
    "- Embarked - наиболее часто встречающееся значение\n",
    "- Age - медиана в зависимости от пола и класса\n",
    "- Fare - медиана в зависимости от класса\n",
    "\n",
    "В большей части записей отстутствует информация о каютах. Есть предположение что наличие/отсутствие данных может говорить о выживаемости (погибшие не могли дополнить информацию о себе после катастрофы). Поэтому добавлю в датасет дополнительный столбец MissCabin, отражающий отсутствие(True)/(False) наличие информации о каютах. Сам столбец Cabin в анализе использоваться не будет.\n",
    "Также не будет анализироваться столбец Ticket.  "
   ]
  },
  {
   "cell_type": "code",
   "execution_count": 6,
   "id": "9738b444",
   "metadata": {},
   "outputs": [],
   "source": [
    "pass_data.Embarked.fillna(pass_data.Embarked.mode()[0], inplace = True) #"
   ]
  },
  {
   "cell_type": "code",
   "execution_count": 7,
   "id": "384d7fc7",
   "metadata": {},
   "outputs": [],
   "source": [
    "SP = pass_data.groupby([\"Sex\",\"Pclass\"])\n",
    "pass_data[\"Age\"] = pass_data[\"Age\"].fillna(SP[\"Age\"].transform(\"median\"))"
   ]
  },
  {
   "cell_type": "code",
   "execution_count": 9,
   "id": "e6e4de12",
   "metadata": {},
   "outputs": [],
   "source": [
    "P = pass_data.groupby([\"Pclass\"])\n",
    "pass_data[\"Fare\"] = pass_data[\"Fare\"].fillna(P[\"Fare\"].transform(\"median\"))"
   ]
  },
  {
   "cell_type": "code",
   "execution_count": 10,
   "id": "d38d8f16",
   "metadata": {},
   "outputs": [
    {
     "data": {
      "text/html": [
       "<div>\n",
       "<style scoped>\n",
       "    .dataframe tbody tr th:only-of-type {\n",
       "        vertical-align: middle;\n",
       "    }\n",
       "\n",
       "    .dataframe tbody tr th {\n",
       "        vertical-align: top;\n",
       "    }\n",
       "\n",
       "    .dataframe thead th {\n",
       "        text-align: right;\n",
       "    }\n",
       "</style>\n",
       "<table border=\"1\" class=\"dataframe\">\n",
       "  <thead>\n",
       "    <tr style=\"text-align: right;\">\n",
       "      <th></th>\n",
       "      <th>Survived</th>\n",
       "      <th>Pclass</th>\n",
       "      <th>Name</th>\n",
       "      <th>Sex</th>\n",
       "      <th>Age</th>\n",
       "      <th>SibSp</th>\n",
       "      <th>Parch</th>\n",
       "      <th>Ticket</th>\n",
       "      <th>Fare</th>\n",
       "      <th>Cabin</th>\n",
       "      <th>Embarked</th>\n",
       "      <th>MissCabin</th>\n",
       "    </tr>\n",
       "    <tr>\n",
       "      <th>PassengerId</th>\n",
       "      <th></th>\n",
       "      <th></th>\n",
       "      <th></th>\n",
       "      <th></th>\n",
       "      <th></th>\n",
       "      <th></th>\n",
       "      <th></th>\n",
       "      <th></th>\n",
       "      <th></th>\n",
       "      <th></th>\n",
       "      <th></th>\n",
       "      <th></th>\n",
       "    </tr>\n",
       "  </thead>\n",
       "  <tbody>\n",
       "    <tr>\n",
       "      <th>0</th>\n",
       "      <td>1</td>\n",
       "      <td>1</td>\n",
       "      <td>Oconnor, Frankie</td>\n",
       "      <td>male</td>\n",
       "      <td>44.00</td>\n",
       "      <td>2</td>\n",
       "      <td>0</td>\n",
       "      <td>209245</td>\n",
       "      <td>27.14</td>\n",
       "      <td>C12239</td>\n",
       "      <td>S</td>\n",
       "      <td>False</td>\n",
       "    </tr>\n",
       "    <tr>\n",
       "      <th>1</th>\n",
       "      <td>0</td>\n",
       "      <td>3</td>\n",
       "      <td>Bryan, Drew</td>\n",
       "      <td>male</td>\n",
       "      <td>31.00</td>\n",
       "      <td>0</td>\n",
       "      <td>0</td>\n",
       "      <td>27323</td>\n",
       "      <td>13.35</td>\n",
       "      <td>NaN</td>\n",
       "      <td>S</td>\n",
       "      <td>True</td>\n",
       "    </tr>\n",
       "    <tr>\n",
       "      <th>2</th>\n",
       "      <td>0</td>\n",
       "      <td>3</td>\n",
       "      <td>Owens, Kenneth</td>\n",
       "      <td>male</td>\n",
       "      <td>0.33</td>\n",
       "      <td>1</td>\n",
       "      <td>2</td>\n",
       "      <td>CA 457703</td>\n",
       "      <td>71.29</td>\n",
       "      <td>NaN</td>\n",
       "      <td>S</td>\n",
       "      <td>True</td>\n",
       "    </tr>\n",
       "    <tr>\n",
       "      <th>3</th>\n",
       "      <td>0</td>\n",
       "      <td>3</td>\n",
       "      <td>Kramer, James</td>\n",
       "      <td>male</td>\n",
       "      <td>19.00</td>\n",
       "      <td>0</td>\n",
       "      <td>0</td>\n",
       "      <td>A. 10866</td>\n",
       "      <td>13.04</td>\n",
       "      <td>NaN</td>\n",
       "      <td>S</td>\n",
       "      <td>True</td>\n",
       "    </tr>\n",
       "    <tr>\n",
       "      <th>4</th>\n",
       "      <td>1</td>\n",
       "      <td>3</td>\n",
       "      <td>Bond, Michael</td>\n",
       "      <td>male</td>\n",
       "      <td>25.00</td>\n",
       "      <td>0</td>\n",
       "      <td>0</td>\n",
       "      <td>427635</td>\n",
       "      <td>7.76</td>\n",
       "      <td>NaN</td>\n",
       "      <td>S</td>\n",
       "      <td>True</td>\n",
       "    </tr>\n",
       "  </tbody>\n",
       "</table>\n",
       "</div>"
      ],
      "text/plain": [
       "             Survived  Pclass              Name   Sex    Age  SibSp  Parch  \\\n",
       "PassengerId                                                                  \n",
       "0                   1       1  Oconnor, Frankie  male  44.00      2      0   \n",
       "1                   0       3       Bryan, Drew  male  31.00      0      0   \n",
       "2                   0       3    Owens, Kenneth  male   0.33      1      2   \n",
       "3                   0       3     Kramer, James  male  19.00      0      0   \n",
       "4                   1       3     Bond, Michael  male  25.00      0      0   \n",
       "\n",
       "                Ticket   Fare   Cabin Embarked  MissCabin  \n",
       "PassengerId                                                \n",
       "0               209245  27.14  C12239        S      False  \n",
       "1                27323  13.35     NaN        S       True  \n",
       "2            CA 457703  71.29     NaN        S       True  \n",
       "3             A. 10866  13.04     NaN        S       True  \n",
       "4               427635   7.76     NaN        S       True  "
      ]
     },
     "execution_count": 10,
     "metadata": {},
     "output_type": "execute_result"
    }
   ],
   "source": [
    "pass_data['MissCabin']=pass_data.Cabin.isnull()\n",
    "pass_data.head(5)"
   ]
  },
  {
   "cell_type": "markdown",
   "id": "ddd7ed60",
   "metadata": {},
   "source": [
    "Проверка на наличие дубликатов."
   ]
  },
  {
   "cell_type": "code",
   "execution_count": 11,
   "id": "9d3d8314",
   "metadata": {
    "scrolled": false
   },
   "outputs": [
    {
     "data": {
      "text/html": [
       "<div>\n",
       "<style scoped>\n",
       "    .dataframe tbody tr th:only-of-type {\n",
       "        vertical-align: middle;\n",
       "    }\n",
       "\n",
       "    .dataframe tbody tr th {\n",
       "        vertical-align: top;\n",
       "    }\n",
       "\n",
       "    .dataframe thead th {\n",
       "        text-align: right;\n",
       "    }\n",
       "</style>\n",
       "<table border=\"1\" class=\"dataframe\">\n",
       "  <thead>\n",
       "    <tr style=\"text-align: right;\">\n",
       "      <th></th>\n",
       "      <th>Survived</th>\n",
       "      <th>Pclass</th>\n",
       "      <th>Name</th>\n",
       "      <th>Sex</th>\n",
       "      <th>Age</th>\n",
       "      <th>SibSp</th>\n",
       "      <th>Parch</th>\n",
       "      <th>Ticket</th>\n",
       "      <th>Fare</th>\n",
       "      <th>Cabin</th>\n",
       "      <th>Embarked</th>\n",
       "      <th>MissCabin</th>\n",
       "    </tr>\n",
       "    <tr>\n",
       "      <th>PassengerId</th>\n",
       "      <th></th>\n",
       "      <th></th>\n",
       "      <th></th>\n",
       "      <th></th>\n",
       "      <th></th>\n",
       "      <th></th>\n",
       "      <th></th>\n",
       "      <th></th>\n",
       "      <th></th>\n",
       "      <th></th>\n",
       "      <th></th>\n",
       "      <th></th>\n",
       "    </tr>\n",
       "  </thead>\n",
       "  <tbody>\n",
       "  </tbody>\n",
       "</table>\n",
       "</div>"
      ],
      "text/plain": [
       "Empty DataFrame\n",
       "Columns: [Survived, Pclass, Name, Sex, Age, SibSp, Parch, Ticket, Fare, Cabin, Embarked, MissCabin]\n",
       "Index: []"
      ]
     },
     "execution_count": 11,
     "metadata": {},
     "output_type": "execute_result"
    }
   ],
   "source": [
    "fullDduplicateRows = pass_data[pass_data.duplicated(['Survived', 'Pclass', 'Name', 'Sex', 'Age', 'SibSp', 'Parch', 'Ticket', 'Fare', 'Cabin', 'Embarked'])]\n",
    "fullDduplicateRows"
   ]
  },
  {
   "cell_type": "markdown",
   "id": "f3720369",
   "metadata": {},
   "source": [
    "Полные дубликаты отсутствуют. Есть дубликаты,отличающиеся только номером и ценой билета, номер каюты у всех таких дубликатов отсутствует. Теоретически наличие таких пассажиров возможно, хоть и маловероятно."
   ]
  },
  {
   "cell_type": "code",
   "execution_count": 12,
   "id": "f46cd9f5",
   "metadata": {},
   "outputs": [
    {
     "data": {
      "text/html": [
       "<div>\n",
       "<style scoped>\n",
       "    .dataframe tbody tr th:only-of-type {\n",
       "        vertical-align: middle;\n",
       "    }\n",
       "\n",
       "    .dataframe tbody tr th {\n",
       "        vertical-align: top;\n",
       "    }\n",
       "\n",
       "    .dataframe thead th {\n",
       "        text-align: right;\n",
       "    }\n",
       "</style>\n",
       "<table border=\"1\" class=\"dataframe\">\n",
       "  <thead>\n",
       "    <tr style=\"text-align: right;\">\n",
       "      <th></th>\n",
       "      <th>Survived</th>\n",
       "      <th>Pclass</th>\n",
       "      <th>Age</th>\n",
       "      <th>SibSp</th>\n",
       "      <th>Parch</th>\n",
       "      <th>Fare</th>\n",
       "    </tr>\n",
       "  </thead>\n",
       "  <tbody>\n",
       "    <tr>\n",
       "      <th>count</th>\n",
       "      <td>100000.000000</td>\n",
       "      <td>100000.000000</td>\n",
       "      <td>100000.000000</td>\n",
       "      <td>100000.000000</td>\n",
       "      <td>100000.000000</td>\n",
       "      <td>100000.000000</td>\n",
       "    </tr>\n",
       "    <tr>\n",
       "      <th>mean</th>\n",
       "      <td>0.427740</td>\n",
       "      <td>2.106910</td>\n",
       "      <td>38.322220</td>\n",
       "      <td>0.397690</td>\n",
       "      <td>0.454560</td>\n",
       "      <td>43.911139</td>\n",
       "    </tr>\n",
       "    <tr>\n",
       "      <th>std</th>\n",
       "      <td>0.494753</td>\n",
       "      <td>0.837727</td>\n",
       "      <td>18.056228</td>\n",
       "      <td>0.862566</td>\n",
       "      <td>0.950076</td>\n",
       "      <td>69.548710</td>\n",
       "    </tr>\n",
       "    <tr>\n",
       "      <th>min</th>\n",
       "      <td>0.000000</td>\n",
       "      <td>1.000000</td>\n",
       "      <td>0.080000</td>\n",
       "      <td>0.000000</td>\n",
       "      <td>0.000000</td>\n",
       "      <td>0.680000</td>\n",
       "    </tr>\n",
       "    <tr>\n",
       "      <th>25%</th>\n",
       "      <td>0.000000</td>\n",
       "      <td>1.000000</td>\n",
       "      <td>25.000000</td>\n",
       "      <td>0.000000</td>\n",
       "      <td>0.000000</td>\n",
       "      <td>10.040000</td>\n",
       "    </tr>\n",
       "    <tr>\n",
       "      <th>50%</th>\n",
       "      <td>0.000000</td>\n",
       "      <td>2.000000</td>\n",
       "      <td>38.000000</td>\n",
       "      <td>0.000000</td>\n",
       "      <td>0.000000</td>\n",
       "      <td>24.450000</td>\n",
       "    </tr>\n",
       "    <tr>\n",
       "      <th>75%</th>\n",
       "      <td>1.000000</td>\n",
       "      <td>3.000000</td>\n",
       "      <td>53.000000</td>\n",
       "      <td>1.000000</td>\n",
       "      <td>1.000000</td>\n",
       "      <td>33.500000</td>\n",
       "    </tr>\n",
       "    <tr>\n",
       "      <th>max</th>\n",
       "      <td>1.000000</td>\n",
       "      <td>3.000000</td>\n",
       "      <td>87.000000</td>\n",
       "      <td>8.000000</td>\n",
       "      <td>9.000000</td>\n",
       "      <td>744.660000</td>\n",
       "    </tr>\n",
       "  </tbody>\n",
       "</table>\n",
       "</div>"
      ],
      "text/plain": [
       "            Survived         Pclass            Age          SibSp  \\\n",
       "count  100000.000000  100000.000000  100000.000000  100000.000000   \n",
       "mean        0.427740       2.106910      38.322220       0.397690   \n",
       "std         0.494753       0.837727      18.056228       0.862566   \n",
       "min         0.000000       1.000000       0.080000       0.000000   \n",
       "25%         0.000000       1.000000      25.000000       0.000000   \n",
       "50%         0.000000       2.000000      38.000000       0.000000   \n",
       "75%         1.000000       3.000000      53.000000       1.000000   \n",
       "max         1.000000       3.000000      87.000000       8.000000   \n",
       "\n",
       "               Parch           Fare  \n",
       "count  100000.000000  100000.000000  \n",
       "mean        0.454560      43.911139  \n",
       "std         0.950076      69.548710  \n",
       "min         0.000000       0.680000  \n",
       "25%         0.000000      10.040000  \n",
       "50%         0.000000      24.450000  \n",
       "75%         1.000000      33.500000  \n",
       "max         9.000000     744.660000  "
      ]
     },
     "execution_count": 12,
     "metadata": {},
     "output_type": "execute_result"
    }
   ],
   "source": [
    "pass_data.describe()"
   ]
  },
  {
   "cell_type": "markdown",
   "id": "d14777a6",
   "metadata": {},
   "source": [
    "Максимальное значение в колонке Fare значительно отличается от третьего квартиля. Хотя максимальная стоимость билета 744,6 скорее всего, не является ошибкой (максимальная стоимость билета первого класса на реальном Титанике составляла  £870 фунтов), такое отклонение может искажать результаты и следует исследовать выбросы в Fare."
   ]
  },
  {
   "cell_type": "code",
   "execution_count": 13,
   "id": "239e5029",
   "metadata": {},
   "outputs": [
    {
     "data": {
      "text/plain": [
       "<AxesSubplot:xlabel='Fare'>"
      ]
     },
     "execution_count": 13,
     "metadata": {},
     "output_type": "execute_result"
    },
    {
     "data": {
      "image/png": "[encoded data removed]",
      "text/plain": [
       "<Figure size 432x288 with 1 Axes>"
      ]
     },
     "metadata": {
      "needs_background": "light"
     },
     "output_type": "display_data"
    }
   ],
   "source": [
    "sns.boxplot(x=pass_data[\"Fare\"])"
   ]
  },
  {
   "cell_type": "markdown",
   "id": "de6fd20b",
   "metadata": {},
   "source": [
    "Больше похоже на то, что высокие значения являются частью распределения, а не выбросами."
   ]
  },
  {
   "cell_type": "markdown",
   "id": "5408eca5",
   "metadata": {},
   "source": [
    "# Data exploration"
   ]
  },
  {
   "cell_type": "code",
   "execution_count": 14,
   "id": "d865445b",
   "metadata": {
    "scrolled": true
   },
   "outputs": [
    {
     "name": "stdout",
     "output_type": "stream",
     "text": [
      "Выживаемость: 42.77%\n"
     ]
    },
    {
     "data": {
      "image/png": "[encoded data removed]",
      "text/plain": [
       "<Figure size 432x288 with 1 Axes>"
      ]
     },
     "metadata": {
      "needs_background": "light"
     },
     "output_type": "display_data"
    }
   ],
   "source": [
    "sns.countplot(x='Survived', data=pass_data).set(title='Распределение погибших и выживших')\n",
    "print(\"Выживаемость: \"+ \"{:.2%}\".format(pass_data.Survived.sum()/pass_data.Survived.count()))"
   ]
  },
  {
   "cell_type": "code",
   "execution_count": 15,
   "id": "a00fd6a3",
   "metadata": {},
   "outputs": [
    {
     "name": "stdout",
     "output_type": "stream",
     "text": [
      "% женщин: 43.89%\n",
      "% мужчин: 56.11%\n"
     ]
    },
    {
     "data": {
      "image/png": "[encoded data removed]",
      "text/plain": [
       "<Figure size 432x288 with 1 Axes>"
      ]
     },
     "metadata": {
      "needs_background": "light"
     },
     "output_type": "display_data"
    }
   ],
   "source": [
    "sns.countplot(x='Sex', data=pass_data).set(title='Распределение по полу')\n",
    "print(\"% женщин: \"+ \"{:.2%}\".format(pass_data[pass_data.Sex == 'female'].Sex.count()/pass_data.Sex.count()))\n",
    "print(\"% мужчин: \"+ \"{:.2%}\".format(pass_data[pass_data.Sex == 'male'].Sex.count()/pass_data.Sex.count()))"
   ]
  },
  {
   "cell_type": "code",
   "execution_count": 16,
   "id": "2639ed08",
   "metadata": {},
   "outputs": [
    {
     "name": "stdout",
     "output_type": "stream",
     "text": [
      "Выживаемость среди женщин: 0.7115253155903933\n",
      "Выживаемость среди мужчин: 0.20579534519014864\n"
     ]
    },
    {
     "data": {
      "image/png": "[encoded data removed]",
      "text/plain": [
       "<Figure size 720x360 with 2 Axes>"
      ]
     },
     "metadata": {
      "needs_background": "light"
     },
     "output_type": "display_data"
    }
   ],
   "source": [
    "sns.catplot(x='Survived', col='Sex', kind='count', data=pass_data)#График выживаемости в зависимости от пола\n",
    "print(\"Выживаемость среди женщин: \"+ str(pass_data[pass_data.Sex == 'female'].Survived.sum()/pass_data[pass_data.Sex == 'female'].Survived.count()))\n",
    "print(\"Выживаемость среди мужчин: \"+ str(pass_data[pass_data.Sex == 'male'].Survived.sum()/pass_data[pass_data.Sex == 'male'].Survived.count()))"
   ]
  },
  {
   "cell_type": "markdown",
   "id": "7053e5cb",
   "metadata": {},
   "source": [
    "Пол является одним из основных факторов, влияющих на выживаемость. Процент выживших женщин почти в 3,5 раз превышает процент выживших мужчин."
   ]
  },
  {
   "cell_type": "code",
   "execution_count": 17,
   "id": "e2f82f37",
   "metadata": {
    "scrolled": true
   },
   "outputs": [
    {
     "name": "stdout",
     "output_type": "stream",
     "text": [
      "1 класс: 30.31%\n",
      "2 класс: 28.68%\n",
      "3 класс: 41.01%\n"
     ]
    },
    {
     "data": {
      "image/png": "[encoded data removed]",
      "text/plain": [
       "<Figure size 432x288 with 1 Axes>"
      ]
     },
     "metadata": {
      "needs_background": "light"
     },
     "output_type": "display_data"
    }
   ],
   "source": [
    "sns.countplot(x='Pclass', data=pass_data).set(title='Распределение по классам')\n",
    "print(\"1 класс: \"+ \"{:.2%}\".format(pass_data[pass_data.Pclass == 1].Pclass.count()/pass_data.Pclass.count()))\n",
    "print(\"2 класс: \"+ \"{:.2%}\".format(pass_data[pass_data.Pclass == 2].Pclass.count()/pass_data.Pclass.count()))\n",
    "print(\"3 класс: \"+ \"{:.2%}\".format(pass_data[pass_data.Pclass == 3].Pclass.count()/pass_data.Pclass.count()))"
   ]
  },
  {
   "cell_type": "code",
   "execution_count": 19,
   "id": "13e7e9d9",
   "metadata": {},
   "outputs": [
    {
     "name": "stdout",
     "output_type": "stream",
     "text": [
      "Выживаемость 1 класс: 0.5797789873000165\n",
      "Выживаемость 2 класс: 0.5250183060776178\n",
      "Выживаемость 3 класс: 0.24730527239916109\n"
     ]
    },
    {
     "data": {
      "image/png": "[encoded data removed]",
      "text/plain": [
       "<Figure size 1080x360 with 3 Axes>"
      ]
     },
     "metadata": {
      "needs_background": "light"
     },
     "output_type": "display_data"
    }
   ],
   "source": [
    "sns.catplot(x='Survived', col='Pclass', kind='count', data=pass_data)\n",
    "print(\"Выживаемость 1 класс: \"+ str(pass_data[pass_data.Pclass == 1].Survived.sum()/pass_data[pass_data.Pclass == 1].Survived.count()))\n",
    "print(\"Выживаемость 2 класс: \"+ str(pass_data[pass_data.Pclass == 2].Survived.sum()/pass_data[pass_data.Pclass == 2].Survived.count()))\n",
    "print(\"Выживаемость 3 класс: \"+ str(pass_data[pass_data.Pclass == 3].Survived.sum()/pass_data[pass_data.Pclass == 3].Survived.count()))"
   ]
  },
  {
   "cell_type": "markdown",
   "id": "4c0fea4e",
   "metadata": {},
   "source": [
    "Чем выше класс, тем выше шансы выжить."
   ]
  },
  {
   "cell_type": "code",
   "execution_count": 91,
   "id": "773f9e96",
   "metadata": {},
   "outputs": [
    {
     "name": "stdout",
     "output_type": "stream",
     "text": [
      "Саутгемптон: 72.39%\n",
      "Шербур: 22.19%\n",
      "Куинстаун: 5.42%\n"
     ]
    },
    {
     "data": {
      "image/png": "[encoded data removed]",
      "text/plain": [
       "<Figure size 432x288 with 1 Axes>"
      ]
     },
     "metadata": {
      "needs_background": "light"
     },
     "output_type": "display_data"
    }
   ],
   "source": [
    "sns.countplot(x='Embarked', data=pass_data).set(title='Распределение по станции посадки')\n",
    "print(\"Саутгемптон: \"+ \"{:.2%}\".format(pass_data[pass_data.Embarked == \"S\"].Embarked.count()/pass_data.Embarked.count()))\n",
    "print(\"Шербур: \"+ \"{:.2%}\".format(pass_data[pass_data.Embarked == \"C\"].Embarked.count()/pass_data.Embarked.count()))\n",
    "print(\"Куинстаун: \"+ \"{:.2%}\".format(pass_data[pass_data.Embarked == \"Q\"].Embarked.count()/pass_data.Embarked.count()))"
   ]
  },
  {
   "cell_type": "code",
   "execution_count": 20,
   "id": "a5a30fc4",
   "metadata": {
    "scrolled": true
   },
   "outputs": [
    {
     "name": "stdout",
     "output_type": "stream",
     "text": [
      "Выживаемость Саутгемптон: 0.31589053585489507\n",
      "Выживаемость Шербур: 0.7512958038491008\n",
      "Выживаемость Куинстаун: 0.596976401179941\n"
     ]
    },
    {
     "data": {
      "image/png": "[encoded data removed]",
      "text/plain": [
       "<Figure size 1080x360 with 3 Axes>"
      ]
     },
     "metadata": {
      "needs_background": "light"
     },
     "output_type": "display_data"
    }
   ],
   "source": [
    "sns.catplot(x='Survived', col='Embarked', kind='count', data=pass_data);\n",
    "print(\"Выживаемость Саутгемптон: \"+ str(pass_data[pass_data.Embarked == 'S'].Survived.sum()/pass_data[pass_data.Embarked == 'S'].Survived.count()))\n",
    "print(\"Выживаемость Шербур: \"+ str(pass_data[pass_data.Embarked == 'C'].Survived.sum()/pass_data[pass_data.Embarked == 'C'].Survived.count()))\n",
    "print(\"Выживаемость Куинстаун: \"+ str(pass_data[pass_data.Embarked == 'Q'].Survived.sum()/pass_data[pass_data.Embarked == 'Q'].Survived.count()))"
   ]
  },
  {
   "cell_type": "markdown",
   "id": "7a387019",
   "metadata": {},
   "source": [
    "По графикам прослеживается зависимость между портом посадки и выживаемостью. Это можно объяснить тем, что в Саутгемптоне село большее количество пассажиров с более дешевыми билетами 3 класса, чем в Шербуре и Квинстауне."
   ]
  },
  {
   "cell_type": "code",
   "execution_count": 93,
   "id": "e8a63795",
   "metadata": {},
   "outputs": [
    {
     "data": {
      "image/png": "[encoded data removed]",
      "text/plain": [
       "<Figure size 1080x360 with 3 Axes>"
      ]
     },
     "metadata": {
      "needs_background": "light"
     },
     "output_type": "display_data"
    }
   ],
   "source": [
    "sns.catplot(x='Pclass', col='Embarked', kind='count', data=pass_data);"
   ]
  },
  {
   "cell_type": "code",
   "execution_count": 96,
   "id": "19824154",
   "metadata": {
    "scrolled": false
   },
   "outputs": [
    {
     "name": "stdout",
     "output_type": "stream",
     "text": [
      "Выживаемость пассажиров с отсутстствующим номером каюты: 0.34210061002563874\n",
      "Выживаемость пассажиров с присутствующим номером каюты: 0.6086077052343313\n"
     ]
    },
    {
     "data": {
      "image/png": "[encoded data removed]",
      "text/plain": [
       "<Figure size 720x360 with 2 Axes>"
      ]
     },
     "metadata": {
      "needs_background": "light"
     },
     "output_type": "display_data"
    }
   ],
   "source": [
    "sns.catplot(x='Survived', col='MissCabin', kind='count', data=pass_data);\n",
    "print(\"Выживаемость пассажиров с отсутстствующим номером каюты: \"+ str(pass_data[pass_data.MissCabin == True].Survived.sum()/pass_data[pass_data.MissCabin == True].Survived.count()))\n",
    "print(\"Выживаемость пассажиров с присутствующим номером каюты: \"+ str(pass_data[pass_data.MissCabin == False].Survived.sum()/pass_data[pass_data.MissCabin == False].Survived.count()))"
   ]
  },
  {
   "cell_type": "code",
   "execution_count": null,
   "id": "8000fe5c",
   "metadata": {},
   "outputs": [],
   "source": [
    "Среди пассажиров с отстутсвующим номером каюты процент выживших меньше."
   ]
  },
  {
   "cell_type": "code",
   "execution_count": 94,
   "id": "d801d1d0",
   "metadata": {},
   "outputs": [
    {
     "data": {
      "text/plain": [
       "[Text(0.5, 1.0, 'Выживаемость в зависимости от SibSp)')]"
      ]
     },
     "execution_count": 94,
     "metadata": {},
     "output_type": "execute_result"
    },
    {
     "data": {
      "image/png": "[encoded data removed]",
      "text/plain": [
       "<Figure size 432x288 with 1 Axes>"
      ]
     },
     "metadata": {
      "needs_background": "light"
     },
     "output_type": "display_data"
    }
   ],
   "source": [
    "sns.barplot(x ='SibSp', y ='Survived', data = pass_data).set(title='Выживаемость в зависимости от SibSp)')"
   ]
  },
  {
   "cell_type": "code",
   "execution_count": 95,
   "id": "a0e0c2e7",
   "metadata": {},
   "outputs": [
    {
     "data": {
      "text/plain": [
       "[Text(0.5, 1.0, 'Выживаемость в зависимости от Parch)')]"
      ]
     },
     "execution_count": 95,
     "metadata": {},
     "output_type": "execute_result"
    },
    {
     "data": {
      "image/png": "[encoded data removed]",
      "text/plain": [
       "<Figure size 432x288 with 1 Axes>"
      ]
     },
     "metadata": {
      "needs_background": "light"
     },
     "output_type": "display_data"
    }
   ],
   "source": [
    "sns.barplot(x ='Parch', y ='Survived', data = pass_data).set(title='Выживаемость в зависимости от Parch')"
   ]
  },
  {
   "cell_type": "code",
   "execution_count": 39,
   "id": "c30ccbab",
   "metadata": {},
   "outputs": [
    {
     "data": {
      "text/plain": [
       "[Text(0.5, 1.0, 'Выживаемость в зависимости от стоимости билета')]"
      ]
     },
     "execution_count": 39,
     "metadata": {},
     "output_type": "execute_result"
    },
    {
     "data": {
      "image/png": "[encoded data removed]",
      "text/plain": [
       "<Figure size 720x360 with 1 Axes>"
      ]
     },
     "metadata": {
      "needs_background": "light"
     },
     "output_type": "display_data"
    }
   ],
   "source": [
    "\n",
    "pass_data['FareRange'] = pd.qcut(pass_data['Fare'], 6)\n",
    "plt.figure(figsize = (10,5))\n",
    "\n",
    "sns.barplot(x ='FareRange', y ='Survived', data = pass_data).set(title='Выживаемость в зависимости от стоимости билета')"
   ]
  },
  {
   "cell_type": "markdown",
   "id": "6208fd7e",
   "metadata": {},
   "source": [
    "С увеличением стоимости билета процент выживаемости возрастает."
   ]
  },
  {
   "cell_type": "code",
   "execution_count": 48,
   "id": "bf135aed",
   "metadata": {},
   "outputs": [
    {
     "data": {
      "text/plain": [
       "[Text(0.5, 1.0, 'Выживаемость в зависимости от возраста')]"
      ]
     },
     "execution_count": 48,
     "metadata": {},
     "output_type": "execute_result"
    },
    {
     "data": {
      "image/png": "[encoded data removed]",
      "text/plain": [
       "<Figure size 720x360 with 1 Axes>"
      ]
     },
     "metadata": {
      "needs_background": "light"
     },
     "output_type": "display_data"
    }
   ],
   "source": [
    "pass_data['AgeRange'] = pd.qcut(pass_data['Age'], 8)\n",
    "plt.figure(figsize = (10,5))\n",
    "\n",
    "sns.barplot(x ='AgeRange', y ='Survived',\n",
    "data = pass_data).set(title='Выживаемость в зависимости от возраста')"
   ]
  },
  {
   "cell_type": "markdown",
   "id": "ef471c8c",
   "metadata": {},
   "source": [
    "\n",
    "Наименьшая вероятность выжить у пассажиров в возрасте 15-35 лет."
   ]
  },
  {
   "cell_type": "code",
   "execution_count": 49,
   "id": "1b52bb3e",
   "metadata": {},
   "outputs": [
    {
     "data": {
      "text/plain": [
       "[Text(0.5, 1.0, 'Выживаемость в зависимости от возраста(женщины)')]"
      ]
     },
     "execution_count": 49,
     "metadata": {},
     "output_type": "execute_result"
    },
    {
     "data": {
      "image/png": "[encoded data removed]",
      "text/plain": [
       "<Figure size 720x360 with 1 Axes>"
      ]
     },
     "metadata": {
      "needs_background": "light"
     },
     "output_type": "display_data"
    }
   ],
   "source": [
    "\n",
    "plt.figure(figsize = (10,5))\n",
    "\n",
    "sns.barplot(x ='AgeRange', y ='Survived',\n",
    "data = pass_data[pass_data['Sex']==\"female\"]).set(title='Выживаемость в зависимости от возраста(женщины)')"
   ]
  },
  {
   "cell_type": "code",
   "execution_count": 50,
   "id": "0d83f361",
   "metadata": {},
   "outputs": [
    {
     "data": {
      "text/plain": [
       "[Text(0.5, 1.0, 'Выживаемость в зависимости от возраста(мужчины)')]"
      ]
     },
     "execution_count": 50,
     "metadata": {},
     "output_type": "execute_result"
    },
    {
     "data": {
      "image/png": "[encoded data removed]",
      "text/plain": [
       "<Figure size 720x360 with 1 Axes>"
      ]
     },
     "metadata": {
      "needs_background": "light"
     },
     "output_type": "display_data"
    }
   ],
   "source": [
    "plt.figure(figsize = (10,5))\n",
    "sns.barplot(x ='AgeRange', y ='Survived',\n",
    "data = pass_data[pass_data['Sex']==\"male\"]).set(title='Выживаемость в зависимости от возраста(мужчины)')\n"
   ]
  },
  {
   "cell_type": "markdown",
   "id": "034945c8",
   "metadata": {},
   "source": [
    "# Summary"
   ]
  },
  {
   "cell_type": "markdown",
   "id": "eddfeefb",
   "metadata": {},
   "source": []
  },
  {
   "cell_type": "code",
   "execution_count": null,
   "id": "a61c0ea0",
   "metadata": {},
   "outputs": [],
   "source": []
  }
 ],
 "metadata": {
  "kernelspec": {
   "display_name": "Python 3 (ipykernel)",
   "language": "python",
   "name": "python3"
  },
  "language_info": {
   "codemirror_mode": {
    "name": "ipython",
    "version": 3
   },
   "file_extension": ".py",
   "mimetype": "text/x-python",
   "name": "python",
   "nbconvert_exporter": "python",
   "pygments_lexer": "ipython3",
   "version": "3.9.7"
  },
  "toc": {
   "base_numbering": 1,
   "nav_menu": {},
   "number_sections": true,
   "sideBar": true,
   "skip_h1_title": false,
   "title_cell": "Table of Contents",
   "title_sidebar": "Contents",
   "toc_cell": false,
   "toc_position": {},
   "toc_section_display": true,
   "toc_window_display": false
  }
 },
 "nbformat": 4,
 "nbformat_minor": 5
}
